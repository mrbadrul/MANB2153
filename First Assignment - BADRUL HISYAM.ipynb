{
 "cells": [
  {
   "cell_type": "markdown",
   "metadata": {},
   "source": [
    "## List a few definition of machine learning (with references if possible), and exampale of application. Write in paragraphs at Jupyter Notebook.\n",
    "\n"
   ]
  },
  {
   "cell_type": "markdown",
   "metadata": {},
   "source": [
    "Definitions of Machine Learning :\n",
    "1. A machine that is trained to learn and adapt to the environment\n",
    "2. A machine learning algorithms teach computers to recognize features of an object\n",
    "3. Allow application 'upgraded' without being explicitly programmed\n",
    "\n",
    "Example of applications:\n",
    "1. Email Spam and Malware Filtering\n",
    "2. Search Engine Result Refining\n",
    "3. Product recommendations from online shopping\n",
    "4. Video/ song recommendation from online streaming\n",
    "5. Speech recognition oh handphone/laptop/desktop\n"
   ]
  },
  {
   "cell_type": "markdown",
   "metadata": {},
   "source": [
    "## References\n",
    "1. http://www.naturalsemi.com/2018/01/04/change-happens-adaptability-machine-learning-models/\n",
    "2. https://searchenterpriseai.techtarget.com/definition/machine-learning-ML\n",
    "3. https://bigdata-madesimple.com/top-10-real-life-examples-of-machine-learning/"
   ]
  }
 ],
 "metadata": {
  "kernelspec": {
   "display_name": "Python 3",
   "language": "python",
   "name": "python3"
  },
  "language_info": {
   "codemirror_mode": {
    "name": "ipython",
    "version": 3
   },
   "file_extension": ".py",
   "mimetype": "text/x-python",
   "name": "python",
   "nbconvert_exporter": "python",
   "pygments_lexer": "ipython3",
   "version": "3.7.1"
  }
 },
 "nbformat": 4,
 "nbformat_minor": 2
}
