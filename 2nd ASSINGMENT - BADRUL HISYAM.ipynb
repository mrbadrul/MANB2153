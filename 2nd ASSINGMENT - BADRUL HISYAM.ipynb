{
 "cells": [
  {
   "cell_type": "code",
   "execution_count": 183,
   "metadata": {},
   "outputs": [],
   "source": [
    "import pandas as pd\n",
    "from sklearn.neighbors import KNeighborsClassifier \n",
    "\n",
    "df=pd.read_csv(\"vote.csv\",)\n",
    "df.dropna()\n",
    "\n",
    "y = df['party'].values\n",
    "X = df.drop('party', axis=1).values\n",
    "\n",
    "knn=KNeighborsClassifier(n_neighbors=6)\n",
    "\n",
    "knn.fit(X,y)\n",
    "y_pred = knn.predict(X)\n",
    "\n",
    "new_prediction = knn.predict(X_new)\n",
    "print(\"Prediction: {}\".format(new_prediction))\n",
    "\n"
   ]
  },
  {
   "cell_type": "code",
   "execution_count": 182,
   "metadata": {},
   "outputs": [],
   "source": [
    "import pandas as pd\n",
    "from sklearn.naive_bayes import GaussianNB\n",
    "\n",
    "df=pd.read_csv(\"vote.csv\",)\n",
    "df.dropna()\n",
    "\n",
    "y = df['party'].values\n",
    "X = df.drop('party', axis=1).values\n",
    "\n",
    "NB=GaussianNB()\n",
    "\n",
    "NB.fit(X,y)\n",
    "\n",
    "y_pred = knn.predict(X)\n",
    "\n",
    "new_prediction = knn.predict(X_new)\n",
    "print(\"Prediction: {}\".format(new_prediction))\n"
   ]
  },
  {
   "cell_type": "code",
   "execution_count": null,
   "metadata": {},
   "outputs": [],
   "source": [
    "import pandas as pd\n",
    "from sklearn import tree\n",
    "\n",
    "df=pd.read_csv(\"vote.csv\",)\n",
    "df.dropna()\n",
    "\n",
    "y = df['party'].values\n",
    "X = df.drop('party', axis=1).values\n",
    "\n",
    "dtree = tree.DecisionTreeClassifier()\n",
    "\n",
    "dtree.fit(X,y)\n",
    "\n",
    "y_pred = knn.predict(X)\n",
    "\n",
    "new_prediction = knn.predict(X_new)\n",
    "print(\"Prediction: {}\".format(new_prediction))"
   ]
  },
  {
   "cell_type": "markdown",
   "metadata": {},
   "source": [
    "#### Writing exercises: find 10 papers that have applied kNN, Decision Tree and Naive Bayes to solve their problems. For each paper, explain the problems they are solving, the techniques and the data that were used in the paper. Write this in your Jupyter Notebook.\n",
    "\n",
    "Naive bayes Classifier\n",
    "\n",
    "1. DoS Attack Detection Based on Naive Bayes Classifier  : This paper explain the needs to construct an effective detection of Denial-of-service (DoS) attacks since DOS attacks can cause serious damage to the services running on the victim. The data used as training data contains network traffic records abrupt traffic changes across multiple network domains at captured at a particular time depicting different attribute the earliest time. The technique proposed is to apply the naïve bayes predictions of the traffic flows(Intrusion Detection by Naive Bayes). This scheme may include flow correlation information into the classification process, allowing it to it identify attacks that occur in uncertain conditions. \n",
    "\n",
    "2. Using Naive Bayes Algorithm in detection of hate tweets : This paper proposed to develop a reliable tool for detecting hate tweets since Social Media has been not only for information sharing but also for hateful speech towards certain individual or group of people. the dataset is constructed from streamed tweets with the help of Tweepy library in python.the technique proposed is to used library of Python, Scikit-learn that support of multinomial naïve Bayes classifiers.\n",
    "\n",
    "3. Weighted Naive Bayes Classifier: A Predictive Model for Breast Cancer Detection : This paper explain the needs to construct the most effective way for early detection of breast cancer. The data used in this investigation is the breast cancer data that contain a total of 6291 data and a dimension of 699 rows and 9 columns. the proposed technique is to used Weighted Naive Bayes classifier(compare to the previous Traditional Naive Classifier)that uses bayes theorem to build a effective predictive model for breast cancer detection\n",
    "\n",
    "Decision trees Classifier\n",
    "\n",
    "4.Application of Decision Trees for Portfolio Diversification in Indian Share Market : This paper explain the important of the Classification of companies (belonging to various Industrial Sectors) into different categories and assign ratings on the basis of their performance is a critical step for Portfolio Diversification. The dataset used is develop from Financial data of different companies of various industrial sectors was taken from ICICIDIRECT. the proposed solution is to used decision trees classifier to learn and understand the classification rules generated for companies of each industrial sector and then predicting the category of uncategorized companies\n",
    "\n",
    "5. An Application of Decision Tree Based on ID3 : This paper study is about finding a potential buyer from the purchase records and Online purchasing behavior of customer. by using the datasets gathered from real data for the study of a Web site content, randomly selected from zhejiang Province in October 2009 registered users in 3129 User. the proposed idea is to use decision tree and take into factors of The classification of properties, including user location, Registration time, last login time, last month, buyer credit,etc.\n",
    " \n",
    "6. On Building Decision Trees from Large-scale Data in Applications of On-line Advertising : This paper explain on key scientific problem that determines the health and profitability of advertising systems: the problem of predicting click-through rates and related probabilities. The dataset used is The GD and NGD data sets that are prepared from traffic logged at Yahoo as well as the data set from the 2012 KDD Cup challenge. By applying decission trees as they naturally handle categorical features, they proposed to equip decision trees to handle the high arities found in advertising data by employing an efficient procedure to cluster feature-values based on their output responses. \n",
    "\n",
    "KNN Classifier\n",
    "\n",
    "7. Diagnosis of Power Transformer Oil Using KNN and Naïve Bayes Classifiers : This paper uses KNN and naive Bayes classifier to diagnose the power transformer oil insulation utilizing dissolved gas analysis(DGA). The KNN algorithm provides the highest accuracy rate compare to Bayesian Classification in this study. A related database and the IEC TC 10 one have been used to verify the accuracy rate of both classifiers.\n",
    "\n",
    "8. Text Classification using KNN with different Feature Selection Methods : This paper proposed an efficient approach for text classification using KNN for different feature selection method.20 Newsgroup dataset collected for this study and been divided into training and testing datasets. Text extraction and classification plays a big part in The principle undertaking of text Analytics which help  to retrieve information and execute function like extraction, classification, summarization and language processing.\n",
    "\n",
    "9. A New Intrusion Detection System Based on KNN Classification Algorithm in wireless sensor network : This paper explain the important of security of wireless sensor networks aces security threats mainly from Dos attack, replay attack, integrity attack, false routing information attack, and flooding attack. this study proposed a new intrusion detection system based on KNN classification algorithm in wireless sensor network. This study used data mining technology where the dataset used gathered from data storage module receives data from the wireless network interface module, obtaining statistical information, storing the information into the data domain to be read by the analysis and judgment module.\n",
    "\n",
    "10. Prediction of Student's Performance Using Modified KNN Classifiers : This paper proposed using Educational data to discover the hidden patterns and knowledge about student’s performance. The early prediction of the student’s grade can help the principals to take decisions in order to help schools to initially identify students with low academic achievement and find ways to support them. The datasets used is The Dataset of the students of the 11th Grade of scientific branch at Gaza Strip secondary schools contains 13 parameters, 11 parameters of the subject’s marks, average parameter and Grade parameter. This study focus onz predicting the student’s performance according to their marks through classification using modified KNN classifiers such as Cosine KNN, Cubic KNN, and Weighted KNN."
   ]
  }
 ],
 "metadata": {
  "kernelspec": {
   "display_name": "Python 3",
   "language": "python",
   "name": "python3"
  },
  "language_info": {
   "codemirror_mode": {
    "name": "ipython",
    "version": 3
   },
   "file_extension": ".py",
   "mimetype": "text/x-python",
   "name": "python",
   "nbconvert_exporter": "python",
   "pygments_lexer": "ipython3",
   "version": "3.7.1"
  }
 },
 "nbformat": 4,
 "nbformat_minor": 2
}
